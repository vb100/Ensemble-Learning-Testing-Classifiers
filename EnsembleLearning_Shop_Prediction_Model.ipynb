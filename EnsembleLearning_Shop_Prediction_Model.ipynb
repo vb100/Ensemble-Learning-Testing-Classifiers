{
 "cells": [
  {
   "cell_type": "markdown",
   "metadata": {},
   "source": [
    "<h2>Gender Classification with Ensemble Learning</h2>\n",
    "<p>Data source: https://www.kaggle.com/hb20007/gender-classification</p>\n",
    "<p>Created by: Vytautas Bielinskas</p>\n",
    "<p>Date of creation: 16 Oct 2018</p>"
   ]
  },
  {
   "cell_type": "markdown",
   "metadata": {},
   "source": [
    "<h3>Goal of the model: <i>classify genres to male or female based on given criterions by apply Ensemble Learning</i></h3>"
   ]
  },
  {
   "cell_type": "markdown",
   "metadata": {},
   "source": [
    "<h3>Full Code</h3>"
   ]
  },
  {
   "cell_type": "markdown",
   "metadata": {},
   "source": [
    "<b><u>IMPORT MODULES AND PACKAGES</u></b>"
   ]
  },
  {
   "cell_type": "code",
   "execution_count": 1,
   "metadata": {
    "collapsed": true
   },
   "outputs": [],
   "source": [
    "# Import main modules and packages\n",
    "import numpy as np\n",
    "import pandas as pd\n",
    "from matplotlib import pyplot as plt\n",
    "%matplotlib inline"
   ]
  },
  {
   "cell_type": "markdown",
   "metadata": {},
   "source": [
    "<b><u>READ AND INSPECT DATASET</u></b>"
   ]
  },
  {
   "cell_type": "code",
   "execution_count": 2,
   "metadata": {
    "collapsed": false
   },
   "outputs": [
    {
     "name": "stdout",
     "output_type": "stream",
     "text": [
      "  Favorite Color Favorite Music Genre Favorite Beverage Favorite Soft Drink  \\\n",
      "0           Cool                 Rock             Vodka          7UP/Sprite   \n",
      "1        Neutral              Hip hop             Vodka     Coca Cola/Pepsi   \n",
      "2           Warm                 Rock              Wine     Coca Cola/Pepsi   \n",
      "3           Warm     Folk/Traditional           Whiskey               Fanta   \n",
      "\n",
      "  Gender  \n",
      "0      F  \n",
      "1      F  \n",
      "2      F  \n",
      "3      F  \n",
      "\n",
      ".\n",
      "<class 'pandas.core.frame.DataFrame'>\n",
      "RangeIndex: 66 entries, 0 to 65\n",
      "Data columns (total 5 columns):\n",
      "Favorite Color          66 non-null object\n",
      "Favorite Music Genre    66 non-null object\n",
      "Favorite Beverage       66 non-null object\n",
      "Favorite Soft Drink     66 non-null object\n",
      "Gender                  66 non-null object\n",
      "dtypes: object(5)\n",
      "memory usage: 1.3+ KB\n",
      "None\n"
     ]
    }
   ],
   "source": [
    "dataset = pd.read_csv('gender-classification/gender_data.csv')\n",
    "print('{}\\n\\n.'.format(dataset.head(4)))\n",
    "\n",
    "print(dataset.info())"
   ]
  },
  {
   "cell_type": "markdown",
   "metadata": {},
   "source": [
    "<p>From the first sight we can see that there are mostly text categorical features and <b>no missing data</b>. Each of those must be transformed to dummy variables. But before let's see unique values of each features.</p>"
   ]
  },
  {
   "cell_type": "code",
   "execution_count": 3,
   "metadata": {
    "collapsed": false
   },
   "outputs": [
    {
     "name": "stdout",
     "output_type": "stream",
     "text": [
      "Favorite Color\n",
      "['Cool' 'Neutral' 'Warm'] --> 3 unique values.\n",
      "\n",
      "Favorite Music Genre\n",
      "['Rock' 'Hip hop' 'Folk/Traditional' 'Jazz/Blues' 'Pop' 'Electronic'\n",
      " 'R&B and soul'] --> 7 unique values.\n",
      "\n",
      "Favorite Beverage\n",
      "['Vodka' 'Wine' 'Whiskey' \"Doesn't drink\" 'Beer' 'Other'] --> 6 unique values.\n",
      "\n",
      "Favorite Soft Drink\n",
      "['7UP/Sprite' 'Coca Cola/Pepsi' 'Fanta' 'Other'] --> 4 unique values.\n",
      "\n",
      "Gender\n",
      "['F' 'M'] --> 2 unique values.\n",
      "\n"
     ]
    }
   ],
   "source": [
    "# Check unique values for each feature\n",
    "for column in dataset.columns:\n",
    "    print('{}\\n{} --> {} unique values.\\n'.format(column,\n",
    "                                                  dataset[column].unique(),\n",
    "                                                  len(dataset[column].unique())))"
   ]
  },
  {
   "cell_type": "markdown",
   "metadata": {},
   "source": [
    "<p>First of all we need to separate: what is independend features (<code>X</code>) and what is dependend feature (<code>y</code>).</p>"
   ]
  },
  {
   "cell_type": "markdown",
   "metadata": {},
   "source": [
    "<b><u>GENERATE <code>X</code> and <code>y</code> SETS OF VARIABLES</u></b>"
   ]
  },
  {
   "cell_type": "code",
   "execution_count": 4,
   "metadata": {
    "collapsed": false
   },
   "outputs": [
    {
     "name": "stdout",
     "output_type": "stream",
     "text": [
      "Independend variables:\n",
      "[['Cool' 'Rock' 'Vodka' '7UP/Sprite']\n",
      " ['Neutral' 'Hip hop' 'Vodka' 'Coca Cola/Pepsi']\n",
      " ['Warm' 'Rock' 'Wine' 'Coca Cola/Pepsi']\n",
      " ['Warm' 'Folk/Traditional' 'Whiskey' 'Fanta']\n",
      " ['Cool' 'Rock' 'Vodka' 'Coca Cola/Pepsi']\n",
      " ['Warm' 'Jazz/Blues' \"Doesn't drink\" 'Fanta']\n",
      " ['Cool' 'Pop' 'Beer' 'Coca Cola/Pepsi']\n",
      " ['Warm' 'Pop' 'Whiskey' 'Fanta']\n",
      " ['Warm' 'Rock' 'Other' '7UP/Sprite']\n",
      " ['Neutral' 'Pop' 'Wine' 'Coca Cola/Pepsi']\n",
      " ['Cool' 'Pop' 'Other' '7UP/Sprite']\n",
      " ['Warm' 'Pop' 'Other' '7UP/Sprite']\n",
      " ['Warm' 'Pop' 'Wine' '7UP/Sprite']\n",
      " ['Warm' 'Electronic' 'Wine' 'Coca Cola/Pepsi']\n",
      " ['Cool' 'Rock' 'Beer' 'Coca Cola/Pepsi']\n",
      " ['Warm' 'Jazz/Blues' 'Wine' 'Coca Cola/Pepsi']\n",
      " ['Cool' 'Pop' 'Wine' '7UP/Sprite']\n",
      " ['Cool' 'Rock' 'Other' 'Coca Cola/Pepsi']\n",
      " ['Cool' 'Rock' 'Other' 'Coca Cola/Pepsi']\n",
      " ['Cool' 'Pop' \"Doesn't drink\" '7UP/Sprite']\n",
      " ['Cool' 'Pop' 'Beer' 'Fanta']\n",
      " ['Warm' 'Jazz/Blues' 'Whiskey' 'Fanta']\n",
      " ['Cool' 'Rock' 'Vodka' 'Coca Cola/Pepsi']\n",
      " ['Warm' 'Pop' 'Other' 'Coca Cola/Pepsi']\n",
      " ['Cool' 'Folk/Traditional' 'Whiskey' '7UP/Sprite']\n",
      " ['Warm' 'R&B and soul' 'Whiskey' 'Coca Cola/Pepsi']\n",
      " ['Cool' 'Pop' 'Beer' 'Other']\n",
      " ['Cool' 'Pop' \"Doesn't drink\" 'Other']\n",
      " ['Cool' 'Pop' \"Doesn't drink\" 'Coca Cola/Pepsi']\n",
      " ['Cool' 'Electronic' \"Doesn't drink\" 'Fanta']\n",
      " ['Warm' 'Rock' 'Other' 'Coca Cola/Pepsi']\n",
      " ['Neutral' 'Rock' 'Beer' 'Coca Cola/Pepsi']\n",
      " ['Cool' 'R&B and soul' 'Beer' 'Coca Cola/Pepsi']\n",
      " ['Warm' 'R&B and soul' 'Wine' 'Other']\n",
      " ['Neutral' 'Hip hop' 'Beer' '7UP/Sprite']\n",
      " ['Warm' 'Electronic' 'Other' 'Coca Cola/Pepsi']\n",
      " ['Neutral' 'Rock' \"Doesn't drink\" 'Coca Cola/Pepsi']\n",
      " ['Cool' 'Pop' 'Other' 'Fanta']\n",
      " ['Cool' 'Pop' 'Whiskey' 'Fanta']\n",
      " ['Warm' 'Rock' 'Vodka' '7UP/Sprite']\n",
      " ['Cool' 'Rock' 'Vodka' 'Coca Cola/Pepsi']\n",
      " ['Neutral' 'Pop' \"Doesn't drink\" '7UP/Sprite']\n",
      " ['Warm' 'R&B and soul' \"Doesn't drink\" 'Coca Cola/Pepsi']\n",
      " ['Cool' 'Rock' 'Wine' '7UP/Sprite']\n",
      " ['Cool' 'Folk/Traditional' 'Beer' 'Other']\n",
      " ['Cool' 'Hip hop' 'Beer' 'Coca Cola/Pepsi']\n",
      " ['Cool' 'Hip hop' 'Wine' 'Coca Cola/Pepsi']\n",
      " ['Cool' 'R&B and soul' 'Whiskey' '7UP/Sprite']\n",
      " ['Cool' 'Rock' \"Doesn't drink\" 'Other']\n",
      " ['Warm' 'Hip hop' 'Beer' 'Coca Cola/Pepsi']\n",
      " ['Cool' 'R&B and soul' \"Doesn't drink\" 'Coca Cola/Pepsi']\n",
      " ['Cool' 'Rock' \"Doesn't drink\" 'Coca Cola/Pepsi']\n",
      " ['Cool' 'Hip hop' \"Doesn't drink\" 'Other']\n",
      " ['Warm' 'Rock' 'Beer' 'Fanta']\n",
      " ['Cool' 'Electronic' \"Doesn't drink\" 'Fanta']\n",
      " ['Cool' 'Electronic' 'Other' 'Fanta']\n",
      " ['Warm' 'Folk/Traditional' 'Other' 'Fanta']\n",
      " ['Warm' 'Electronic' 'Vodka' 'Fanta']\n",
      " ['Warm' 'Jazz/Blues' 'Vodka' 'Coca Cola/Pepsi']\n",
      " ['Cool' 'Pop' 'Whiskey' 'Other']\n",
      " ['Cool' 'Electronic' 'Whiskey' 'Coca Cola/Pepsi']\n",
      " ['Cool' 'Rock' 'Vodka' 'Coca Cola/Pepsi']\n",
      " ['Cool' 'Hip hop' 'Beer' 'Coca Cola/Pepsi']\n",
      " ['Neutral' 'Hip hop' \"Doesn't drink\" 'Fanta']\n",
      " ['Cool' 'Rock' 'Wine' 'Coca Cola/Pepsi']\n",
      " ['Cool' 'Electronic' 'Beer' 'Coca Cola/Pepsi']]\n",
      "\n",
      "Dependend variables:\n",
      "['F' 'F' 'F' 'F' 'F' 'F' 'F' 'F' 'F' 'F' 'F' 'F' 'F' 'F' 'F' 'F' 'F' 'F'\n",
      " 'F' 'F' 'F' 'F' 'F' 'F' 'F' 'F' 'F' 'F' 'F' 'F' 'F' 'F' 'F' 'M' 'M' 'M'\n",
      " 'M' 'M' 'M' 'M' 'M' 'M' 'M' 'M' 'M' 'M' 'M' 'M' 'M' 'M' 'M' 'M' 'M' 'M'\n",
      " 'M' 'M' 'M' 'M' 'M' 'M' 'M' 'M' 'M' 'M' 'M' 'M']\n"
     ]
    }
   ],
   "source": [
    "# Extract features to dependend variables (y) and independend variables (X)\n",
    "X = dataset.iloc[:, :-1].values\n",
    "y = dataset.iloc[:, -1].values\n",
    "\n",
    "print('Independend variables:\\n{}\\n'.format(X))\n",
    "print('Dependend variables:\\n{}'.format(y))"
   ]
  },
  {
   "cell_type": "markdown",
   "metadata": {},
   "source": [
    "<b><u>LABEL ENCODING</u></b>\n",
    "<p>Handling categorical variables. There are <b>4</b> features that will be transformed into dummy variables.</p>"
   ]
  },
  {
   "cell_type": "code",
   "execution_count": 5,
   "metadata": {
    "collapsed": false
   },
   "outputs": [
    {
     "name": "stdout",
     "output_type": "stream",
     "text": [
      "Encoded dependend features columns (X):\n",
      "[[0 6 3 0]\n",
      " [1 2 3 1]\n",
      " [2 6 5 1]\n",
      " [2 1 4 2]\n",
      " [0 6 3 1]\n",
      " [2 3 1 2]\n",
      " [0 4 0 1]\n",
      " [2 4 4 2]\n",
      " [2 6 2 0]\n",
      " [1 4 5 1]\n",
      " [0 4 2 0]\n",
      " [2 4 2 0]\n",
      " [2 4 5 0]\n",
      " [2 0 5 1]\n",
      " [0 6 0 1]\n",
      " [2 3 5 1]\n",
      " [0 4 5 0]\n",
      " [0 6 2 1]\n",
      " [0 6 2 1]\n",
      " [0 4 1 0]\n",
      " [0 4 0 2]\n",
      " [2 3 4 2]\n",
      " [0 6 3 1]\n",
      " [2 4 2 1]\n",
      " [0 1 4 0]\n",
      " [2 5 4 1]\n",
      " [0 4 0 3]\n",
      " [0 4 1 3]\n",
      " [0 4 1 1]\n",
      " [0 0 1 2]\n",
      " [2 6 2 1]\n",
      " [1 6 0 1]\n",
      " [0 5 0 1]\n",
      " [2 5 5 3]\n",
      " [1 2 0 0]\n",
      " [2 0 2 1]\n",
      " [1 6 1 1]\n",
      " [0 4 2 2]\n",
      " [0 4 4 2]\n",
      " [2 6 3 0]\n",
      " [0 6 3 1]\n",
      " [1 4 1 0]\n",
      " [2 5 1 1]\n",
      " [0 6 5 0]\n",
      " [0 1 0 3]\n",
      " [0 2 0 1]\n",
      " [0 2 5 1]\n",
      " [0 5 4 0]\n",
      " [0 6 1 3]\n",
      " [2 2 0 1]\n",
      " [0 5 1 1]\n",
      " [0 6 1 1]\n",
      " [0 2 1 3]\n",
      " [2 6 0 2]\n",
      " [0 0 1 2]\n",
      " [0 0 2 2]\n",
      " [2 1 2 2]\n",
      " [2 0 3 2]\n",
      " [2 3 3 1]\n",
      " [0 4 4 3]\n",
      " [0 0 4 1]\n",
      " [0 6 3 1]\n",
      " [0 2 0 1]\n",
      " [1 2 1 2]\n",
      " [0 6 5 1]\n",
      " [0 0 0 1]]\n",
      "Currently X dataset has 4 columns.\n"
     ]
    }
   ],
   "source": [
    "# Encoding categorical data\n",
    "from sklearn.preprocessing import LabelEncoder\n",
    "\n",
    "# >> encoding <Favorite Color> : [0] from X dataset\n",
    "labelencoder_X = LabelEncoder()\n",
    "X[:, 0] = labelencoder_X.fit_transform(X[:, 0])\n",
    "\n",
    "# >> encoding <Favorite Music Genre> : [1] from X dataset\n",
    "X[:, 1] = labelencoder_X.fit_transform(X[:, 1])\n",
    "\n",
    "# >> encoding <Favorite Beverage> : [2] from X dataset\n",
    "X[:, 2] = labelencoder_X.fit_transform(X[:, 2])\n",
    "\n",
    "# >> encoding <Favorite Soft Drink> : [3] from X dataset\n",
    "X[:, 3] = labelencoder_X.fit_transform(X[:, 3])\n",
    "\n",
    "print('Encoded dependend features columns (X):\\n{}'.format(X))\n",
    "print('Currently X dataset has {} columns.'.format(X.shape[1]))"
   ]
  },
  {
   "cell_type": "markdown",
   "metadata": {},
   "source": [
    "<p>As we can see from the first column <code><b>Favorite Color</b></code>>:\n",
    "<ul>>> <code>0</code> – corresponds to <code>Cool</code></ul>\n",
    "<ul>>> <code>1</code> – corresponds to <code>Neutral</code></ul>\n",
    "<ul>>> <code>2</code> – corresponds to <code>Warm</code></ul></p></b>\n",
    "<p>It seems good, but we dont't have a categorical order so far. Instead of this we have just values <code>1</code>, <code>2</code>, <code>3</code>, etc. for the category. The model will intepreter those values as weights of a '<i>single</i>' category but not as different variables. In order to make it correct we must transform each column with containing values into <b>dummy variables</b> where each collumn will correspond to each category (for example of <code>Favorite Color</code>).</p>"
   ]
  },
  {
   "cell_type": "markdown",
   "metadata": {},
   "source": [
    "<b><u>DUMMY VARIABLES</u></b>"
   ]
  },
  {
   "cell_type": "code",
   "execution_count": 6,
   "metadata": {
    "collapsed": false
   },
   "outputs": [
    {
     "name": "stdout",
     "output_type": "stream",
     "text": [
      "X dataset with 1st dummy variable at index [0]:\n",
      "[[ 1.  0.  0.  6.  3.  0.]\n",
      " [ 0.  1.  0.  2.  3.  1.]\n",
      " [ 0.  0.  1.  6.  5.  1.]\n",
      " [ 0.  0.  1.  1.  4.  2.]\n",
      " [ 1.  0.  0.  6.  3.  1.]\n",
      " [ 0.  0.  1.  3.  1.  2.]\n",
      " [ 1.  0.  0.  4.  0.  1.]\n",
      " [ 0.  0.  1.  4.  4.  2.]\n",
      " [ 0.  0.  1.  6.  2.  0.]\n",
      " [ 0.  1.  0.  4.  5.  1.]\n",
      " [ 1.  0.  0.  4.  2.  0.]\n",
      " [ 0.  0.  1.  4.  2.  0.]\n",
      " [ 0.  0.  1.  4.  5.  0.]\n",
      " [ 0.  0.  1.  0.  5.  1.]\n",
      " [ 1.  0.  0.  6.  0.  1.]\n",
      " [ 0.  0.  1.  3.  5.  1.]\n",
      " [ 1.  0.  0.  4.  5.  0.]\n",
      " [ 1.  0.  0.  6.  2.  1.]\n",
      " [ 1.  0.  0.  6.  2.  1.]\n",
      " [ 1.  0.  0.  4.  1.  0.]\n",
      " [ 1.  0.  0.  4.  0.  2.]\n",
      " [ 0.  0.  1.  3.  4.  2.]\n",
      " [ 1.  0.  0.  6.  3.  1.]\n",
      " [ 0.  0.  1.  4.  2.  1.]\n",
      " [ 1.  0.  0.  1.  4.  0.]\n",
      " [ 0.  0.  1.  5.  4.  1.]\n",
      " [ 1.  0.  0.  4.  0.  3.]\n",
      " [ 1.  0.  0.  4.  1.  3.]\n",
      " [ 1.  0.  0.  4.  1.  1.]\n",
      " [ 1.  0.  0.  0.  1.  2.]\n",
      " [ 0.  0.  1.  6.  2.  1.]\n",
      " [ 0.  1.  0.  6.  0.  1.]\n",
      " [ 1.  0.  0.  5.  0.  1.]\n",
      " [ 0.  0.  1.  5.  5.  3.]\n",
      " [ 0.  1.  0.  2.  0.  0.]\n",
      " [ 0.  0.  1.  0.  2.  1.]\n",
      " [ 0.  1.  0.  6.  1.  1.]\n",
      " [ 1.  0.  0.  4.  2.  2.]\n",
      " [ 1.  0.  0.  4.  4.  2.]\n",
      " [ 0.  0.  1.  6.  3.  0.]\n",
      " [ 1.  0.  0.  6.  3.  1.]\n",
      " [ 0.  1.  0.  4.  1.  0.]\n",
      " [ 0.  0.  1.  5.  1.  1.]\n",
      " [ 1.  0.  0.  6.  5.  0.]\n",
      " [ 1.  0.  0.  1.  0.  3.]\n",
      " [ 1.  0.  0.  2.  0.  1.]\n",
      " [ 1.  0.  0.  2.  5.  1.]\n",
      " [ 1.  0.  0.  5.  4.  0.]\n",
      " [ 1.  0.  0.  6.  1.  3.]\n",
      " [ 0.  0.  1.  2.  0.  1.]\n",
      " [ 1.  0.  0.  5.  1.  1.]\n",
      " [ 1.  0.  0.  6.  1.  1.]\n",
      " [ 1.  0.  0.  2.  1.  3.]\n",
      " [ 0.  0.  1.  6.  0.  2.]\n",
      " [ 1.  0.  0.  0.  1.  2.]\n",
      " [ 1.  0.  0.  0.  2.  2.]\n",
      " [ 0.  0.  1.  1.  2.  2.]\n",
      " [ 0.  0.  1.  0.  3.  2.]\n",
      " [ 0.  0.  1.  3.  3.  1.]\n",
      " [ 1.  0.  0.  4.  4.  3.]\n",
      " [ 1.  0.  0.  0.  4.  1.]\n",
      " [ 1.  0.  0.  6.  3.  1.]\n",
      " [ 1.  0.  0.  2.  0.  1.]\n",
      " [ 0.  1.  0.  2.  1.  2.]\n",
      " [ 1.  0.  0.  6.  5.  1.]\n",
      " [ 1.  0.  0.  0.  0.  1.]]\n",
      "Currently X dataset has 6 columns.\n"
     ]
    }
   ],
   "source": [
    "# Tranform <Favorite Color> [0] Categorical variable to Dummy variable\n",
    "from sklearn.preprocessing import OneHotEncoder\n",
    "\n",
    "onehotencoder = OneHotEncoder(categorical_features = [0])\n",
    "X = onehotencoder.fit_transform(X).toarray()\n",
    "\n",
    "print('X dataset with 1st dummy variable at index [0]:\\n{}'.format(X))\n",
    "print('Currently X dataset has {} columns.'.format(X.shape[1]))"
   ]
  },
  {
   "cell_type": "code",
   "execution_count": 7,
   "metadata": {
    "collapsed": false
   },
   "outputs": [
    {
     "name": "stdout",
     "output_type": "stream",
     "text": [
      "X dataset with 2nd dummy variable at index [3]:\n",
      "[[ 0.  0.  0.  0.  0.  0.  1.  1.  0.  0.  3.  0.]\n",
      " [ 0.  0.  1.  0.  0.  0.  0.  0.  1.  0.  3.  1.]\n",
      " [ 0.  0.  0.  0.  0.  0.  1.  0.  0.  1.  5.  1.]\n",
      " [ 0.  1.  0.  0.  0.  0.  0.  0.  0.  1.  4.  2.]\n",
      " [ 0.  0.  0.  0.  0.  0.  1.  1.  0.  0.  3.  1.]\n",
      " [ 0.  0.  0.  1.  0.  0.  0.  0.  0.  1.  1.  2.]\n",
      " [ 0.  0.  0.  0.  1.  0.  0.  1.  0.  0.  0.  1.]\n",
      " [ 0.  0.  0.  0.  1.  0.  0.  0.  0.  1.  4.  2.]\n",
      " [ 0.  0.  0.  0.  0.  0.  1.  0.  0.  1.  2.  0.]\n",
      " [ 0.  0.  0.  0.  1.  0.  0.  0.  1.  0.  5.  1.]\n",
      " [ 0.  0.  0.  0.  1.  0.  0.  1.  0.  0.  2.  0.]\n",
      " [ 0.  0.  0.  0.  1.  0.  0.  0.  0.  1.  2.  0.]\n",
      " [ 0.  0.  0.  0.  1.  0.  0.  0.  0.  1.  5.  0.]\n",
      " [ 1.  0.  0.  0.  0.  0.  0.  0.  0.  1.  5.  1.]\n",
      " [ 0.  0.  0.  0.  0.  0.  1.  1.  0.  0.  0.  1.]\n",
      " [ 0.  0.  0.  1.  0.  0.  0.  0.  0.  1.  5.  1.]\n",
      " [ 0.  0.  0.  0.  1.  0.  0.  1.  0.  0.  5.  0.]\n",
      " [ 0.  0.  0.  0.  0.  0.  1.  1.  0.  0.  2.  1.]\n",
      " [ 0.  0.  0.  0.  0.  0.  1.  1.  0.  0.  2.  1.]\n",
      " [ 0.  0.  0.  0.  1.  0.  0.  1.  0.  0.  1.  0.]\n",
      " [ 0.  0.  0.  0.  1.  0.  0.  1.  0.  0.  0.  2.]\n",
      " [ 0.  0.  0.  1.  0.  0.  0.  0.  0.  1.  4.  2.]\n",
      " [ 0.  0.  0.  0.  0.  0.  1.  1.  0.  0.  3.  1.]\n",
      " [ 0.  0.  0.  0.  1.  0.  0.  0.  0.  1.  2.  1.]\n",
      " [ 0.  1.  0.  0.  0.  0.  0.  1.  0.  0.  4.  0.]\n",
      " [ 0.  0.  0.  0.  0.  1.  0.  0.  0.  1.  4.  1.]\n",
      " [ 0.  0.  0.  0.  1.  0.  0.  1.  0.  0.  0.  3.]\n",
      " [ 0.  0.  0.  0.  1.  0.  0.  1.  0.  0.  1.  3.]\n",
      " [ 0.  0.  0.  0.  1.  0.  0.  1.  0.  0.  1.  1.]\n",
      " [ 1.  0.  0.  0.  0.  0.  0.  1.  0.  0.  1.  2.]\n",
      " [ 0.  0.  0.  0.  0.  0.  1.  0.  0.  1.  2.  1.]\n",
      " [ 0.  0.  0.  0.  0.  0.  1.  0.  1.  0.  0.  1.]\n",
      " [ 0.  0.  0.  0.  0.  1.  0.  1.  0.  0.  0.  1.]\n",
      " [ 0.  0.  0.  0.  0.  1.  0.  0.  0.  1.  5.  3.]\n",
      " [ 0.  0.  1.  0.  0.  0.  0.  0.  1.  0.  0.  0.]\n",
      " [ 1.  0.  0.  0.  0.  0.  0.  0.  0.  1.  2.  1.]\n",
      " [ 0.  0.  0.  0.  0.  0.  1.  0.  1.  0.  1.  1.]\n",
      " [ 0.  0.  0.  0.  1.  0.  0.  1.  0.  0.  2.  2.]\n",
      " [ 0.  0.  0.  0.  1.  0.  0.  1.  0.  0.  4.  2.]\n",
      " [ 0.  0.  0.  0.  0.  0.  1.  0.  0.  1.  3.  0.]\n",
      " [ 0.  0.  0.  0.  0.  0.  1.  1.  0.  0.  3.  1.]\n",
      " [ 0.  0.  0.  0.  1.  0.  0.  0.  1.  0.  1.  0.]\n",
      " [ 0.  0.  0.  0.  0.  1.  0.  0.  0.  1.  1.  1.]\n",
      " [ 0.  0.  0.  0.  0.  0.  1.  1.  0.  0.  5.  0.]\n",
      " [ 0.  1.  0.  0.  0.  0.  0.  1.  0.  0.  0.  3.]\n",
      " [ 0.  0.  1.  0.  0.  0.  0.  1.  0.  0.  0.  1.]\n",
      " [ 0.  0.  1.  0.  0.  0.  0.  1.  0.  0.  5.  1.]\n",
      " [ 0.  0.  0.  0.  0.  1.  0.  1.  0.  0.  4.  0.]\n",
      " [ 0.  0.  0.  0.  0.  0.  1.  1.  0.  0.  1.  3.]\n",
      " [ 0.  0.  1.  0.  0.  0.  0.  0.  0.  1.  0.  1.]\n",
      " [ 0.  0.  0.  0.  0.  1.  0.  1.  0.  0.  1.  1.]\n",
      " [ 0.  0.  0.  0.  0.  0.  1.  1.  0.  0.  1.  1.]\n",
      " [ 0.  0.  1.  0.  0.  0.  0.  1.  0.  0.  1.  3.]\n",
      " [ 0.  0.  0.  0.  0.  0.  1.  0.  0.  1.  0.  2.]\n",
      " [ 1.  0.  0.  0.  0.  0.  0.  1.  0.  0.  1.  2.]\n",
      " [ 1.  0.  0.  0.  0.  0.  0.  1.  0.  0.  2.  2.]\n",
      " [ 0.  1.  0.  0.  0.  0.  0.  0.  0.  1.  2.  2.]\n",
      " [ 1.  0.  0.  0.  0.  0.  0.  0.  0.  1.  3.  2.]\n",
      " [ 0.  0.  0.  1.  0.  0.  0.  0.  0.  1.  3.  1.]\n",
      " [ 0.  0.  0.  0.  1.  0.  0.  1.  0.  0.  4.  3.]\n",
      " [ 1.  0.  0.  0.  0.  0.  0.  1.  0.  0.  4.  1.]\n",
      " [ 0.  0.  0.  0.  0.  0.  1.  1.  0.  0.  3.  1.]\n",
      " [ 0.  0.  1.  0.  0.  0.  0.  1.  0.  0.  0.  1.]\n",
      " [ 0.  0.  1.  0.  0.  0.  0.  0.  1.  0.  1.  2.]\n",
      " [ 0.  0.  0.  0.  0.  0.  1.  1.  0.  0.  5.  1.]\n",
      " [ 1.  0.  0.  0.  0.  0.  0.  1.  0.  0.  0.  1.]]\n",
      "Currently X dataset has 12 columns.\n"
     ]
    }
   ],
   "source": [
    "# Tranform <Favorite Color> [3] Categorical variable to Dummy variable\n",
    "onehotencoder = OneHotEncoder(categorical_features = [3])\n",
    "X = onehotencoder.fit_transform(X).toarray()\n",
    "\n",
    "print('X dataset with 2nd dummy variable at index [3]:\\n{}'.format(X))\n",
    "print('Currently X dataset has {} columns.'.format(X.shape[1]))"
   ]
  },
  {
   "cell_type": "code",
   "execution_count": 8,
   "metadata": {
    "collapsed": false
   },
   "outputs": [
    {
     "name": "stdout",
     "output_type": "stream",
     "text": [
      "X dataset with 3nd dummy variable at index [10]:\n",
      "[[ 0.  0.  0. ...,  0.  0.  0.]\n",
      " [ 0.  0.  0. ...,  1.  0.  1.]\n",
      " [ 0.  0.  0. ...,  0.  1.  1.]\n",
      " ..., \n",
      " [ 0.  1.  0. ...,  1.  0.  2.]\n",
      " [ 0.  0.  0. ...,  0.  0.  1.]\n",
      " [ 1.  0.  0. ...,  0.  0.  1.]]\n",
      "Currently X dataset has 17 columns.\n"
     ]
    }
   ],
   "source": [
    "# Tranform <Favorite Beverage> [10] Categorical variable to Dummy variable\n",
    "onehotencoder = OneHotEncoder(categorical_features = [10])\n",
    "X = onehotencoder.fit_transform(X).toarray()\n",
    "\n",
    "print('X dataset with 3nd dummy variable at index [10]:\\n{}'.format(X))\n",
    "print('Currently X dataset has {} columns.'.format(X.shape[1]))"
   ]
  },
  {
   "cell_type": "code",
   "execution_count": 9,
   "metadata": {
    "collapsed": false
   },
   "outputs": [
    {
     "name": "stdout",
     "output_type": "stream",
     "text": [
      "X dataset with 2nd dummy variable at index [16]:\n",
      "[[ 1.  0.  0. ...,  1.  0.  0.]\n",
      " [ 0.  1.  0. ...,  0.  1.  0.]\n",
      " [ 0.  1.  0. ...,  0.  0.  1.]\n",
      " ..., \n",
      " [ 0.  0.  1. ...,  0.  1.  0.]\n",
      " [ 0.  1.  0. ...,  1.  0.  0.]\n",
      " [ 0.  1.  0. ...,  1.  0.  0.]]\n",
      "Currently X dataset has 20 columns.\n"
     ]
    }
   ],
   "source": [
    "# Tranform <Favorite Soft Drink [16] Categorical variable to Dummy variable\n",
    "onehotencoder = OneHotEncoder(categorical_features = [16])\n",
    "X = onehotencoder.fit_transform(X).toarray()\n",
    "\n",
    "print('X dataset with 2nd dummy variable at index [16]:\\n{}'.format(X))\n",
    "print('Currently X dataset has {} columns.'.format(X.shape[1]))"
   ]
  },
  {
   "cell_type": "markdown",
   "metadata": {},
   "source": [
    "<p>Encode dependend variable <code>y</code> to <code>0</code> and <code>1</code></p>"
   ]
  },
  {
   "cell_type": "code",
   "execution_count": 10,
   "metadata": {
    "collapsed": false
   },
   "outputs": [
    {
     "name": "stdout",
     "output_type": "stream",
     "text": [
      "Dependend variable y after label encoding:\n",
      "[0 0 0 0 0 0 0 0 0 0 0 0 0 0 0 0 0 0 0 0 0 0 0 0 0 0 0 0 0 0 0 0 0 1 1 1 1\n",
      " 1 1 1 1 1 1 1 1 1 1 1 1 1 1 1 1 1 1 1 1 1 1 1 1 1 1 1 1 1]\n"
     ]
    }
   ],
   "source": [
    "labelencoder_y = LabelEncoder()\n",
    "y = labelencoder_y.fit_transform(y)\n",
    "\n",
    "print('Dependend variable y after label encoding:\\n{}'.format(y))"
   ]
  },
  {
   "cell_type": "markdown",
   "metadata": {},
   "source": [
    "<p>Now it is time to build our ML model. Crusial step into this is to split our dataset into Train (<code>train_set</code>) and Test sets (<code>test_set</code>).</p>"
   ]
  },
  {
   "cell_type": "markdown",
   "metadata": {},
   "source": [
    "<b><u>TRAIN AND TEST SETS</u></b>"
   ]
  },
  {
   "cell_type": "code",
   "execution_count": 11,
   "metadata": {
    "collapsed": false
   },
   "outputs": [
    {
     "name": "stdout",
     "output_type": "stream",
     "text": [
      "Size of Training Set: 16 observations\n",
      "Size of Test Set: 50 observations\n"
     ]
    }
   ],
   "source": [
    "# Import module for purposes of splitting dataset\n",
    "from sklearn.model_selection import train_test_split\n",
    "\n",
    "set_size = 0.75\n",
    "X_train, X_test, y_train, y_test = train_test_split(X, y, test_size = set_size, random_state = 42)\n",
    "\n",
    "print('Size of Training Set: {} observations'.format(len(X_train)))\n",
    "print('Size of Test Set: {} observations'.format(len(X_test)))"
   ]
  },
  {
   "cell_type": "markdown",
   "metadata": {},
   "source": [
    "<b><u>FEATURE SCALING</u></b>"
   ]
  },
  {
   "cell_type": "code",
   "execution_count": 12,
   "metadata": {
    "collapsed": false
   },
   "outputs": [
    {
     "name": "stdout",
     "output_type": "stream",
     "text": [
      "Features Training Set:\n",
      "[[ 2.64575131 -1.         -0.67419986 -0.25819889 -0.37796447 -0.48038446\n",
      "  -0.67419986  2.081666   -0.48038446  0.         -0.57735027  0.\n",
      "  -0.25819889  0.         -0.67419986 -0.25819889  1.4832397  -1.29099445\n",
      "   0.          1.29099445]\n",
      " [-0.37796447  1.         -0.67419986 -0.25819889 -0.37796447 -0.48038446\n",
      "   1.4832397  -0.48038446 -0.48038446  0.          1.73205081  0.\n",
      "  -0.25819889  0.         -0.67419986 -0.25819889 -0.67419986 -1.29099445\n",
      "   0.          1.29099445]\n",
      " [-0.37796447 -1.         -0.67419986  3.87298335 -0.37796447  2.081666\n",
      "  -0.67419986 -0.48038446 -0.48038446  0.         -0.57735027  0.\n",
      "   3.87298335  0.         -0.67419986 -0.25819889 -0.67419986  0.77459667\n",
      "   0.         -0.77459667]\n",
      " [-0.37796447  1.         -0.67419986 -0.25819889 -0.37796447 -0.48038446\n",
      "   1.4832397  -0.48038446 -0.48038446  0.         -0.57735027  0.\n",
      "  -0.25819889  0.          1.4832397  -0.25819889 -0.67419986 -1.29099445\n",
      "   0.          1.29099445]\n",
      " [-0.37796447 -1.          1.4832397  -0.25819889 -0.37796447 -0.48038446\n",
      "   1.4832397  -0.48038446 -0.48038446  0.          1.73205081  0.\n",
      "  -0.25819889  0.         -0.67419986 -0.25819889 -0.67419986  0.77459667\n",
      "   0.         -0.77459667]\n",
      " [ 2.64575131 -1.         -0.67419986 -0.25819889 -0.37796447 -0.48038446\n",
      "   1.4832397  -0.48038446 -0.48038446  0.         -0.57735027  0.\n",
      "  -0.25819889  0.          1.4832397  -0.25819889 -0.67419986  0.77459667\n",
      "   0.         -0.77459667]\n",
      " [-0.37796447  1.         -0.67419986 -0.25819889 -0.37796447 -0.48038446\n",
      "  -0.67419986  2.081666   -0.48038446  0.         -0.57735027  0.\n",
      "  -0.25819889  0.         -0.67419986 -0.25819889  1.4832397   0.77459667\n",
      "   0.         -0.77459667]\n",
      " [-0.37796447  1.         -0.67419986 -0.25819889 -0.37796447 -0.48038446\n",
      "   1.4832397  -0.48038446 -0.48038446  0.         -0.57735027  0.\n",
      "  -0.25819889  0.         -0.67419986 -0.25819889  1.4832397   0.77459667\n",
      "   0.         -0.77459667]\n",
      " [-0.37796447 -1.          1.4832397  -0.25819889 -0.37796447 -0.48038446\n",
      "  -0.67419986  2.081666   -0.48038446  0.          1.73205081  0.\n",
      "  -0.25819889  0.         -0.67419986 -0.25819889 -0.67419986 -1.29099445\n",
      "   0.          1.29099445]\n",
      " [-0.37796447 -1.          1.4832397  -0.25819889 -0.37796447 -0.48038446\n",
      "  -0.67419986 -0.48038446  2.081666    0.         -0.57735027  0.\n",
      "  -0.25819889  0.          1.4832397  -0.25819889 -0.67419986  0.77459667\n",
      "   0.         -0.77459667]\n",
      " [-0.37796447 -1.          1.4832397  -0.25819889  2.64575131 -0.48038446\n",
      "  -0.67419986 -0.48038446 -0.48038446  0.         -0.57735027  0.\n",
      "  -0.25819889  0.          1.4832397  -0.25819889 -0.67419986  0.77459667\n",
      "   0.         -0.77459667]\n",
      " [-0.37796447  1.         -0.67419986 -0.25819889 -0.37796447 -0.48038446\n",
      "  -0.67419986 -0.48038446  2.081666    0.          1.73205081  0.\n",
      "  -0.25819889  0.         -0.67419986 -0.25819889 -0.67419986  0.77459667\n",
      "   0.         -0.77459667]\n",
      " [-0.37796447 -1.          1.4832397  -0.25819889 -0.37796447 -0.48038446\n",
      "  -0.67419986 -0.48038446  2.081666    0.         -0.57735027  0.\n",
      "  -0.25819889  0.          1.4832397  -0.25819889 -0.67419986 -1.29099445\n",
      "   0.          1.29099445]\n",
      " [-0.37796447  1.         -0.67419986 -0.25819889 -0.37796447  2.081666\n",
      "  -0.67419986 -0.48038446 -0.48038446  0.         -0.57735027  0.\n",
      "  -0.25819889  0.         -0.67419986  3.87298335 -0.67419986 -1.29099445\n",
      "   0.          1.29099445]\n",
      " [-0.37796447  1.         -0.67419986 -0.25819889  2.64575131 -0.48038446\n",
      "  -0.67419986 -0.48038446 -0.48038446  0.         -0.57735027  0.\n",
      "  -0.25819889  0.         -0.67419986 -0.25819889  1.4832397   0.77459667\n",
      "   0.         -0.77459667]\n",
      " [-0.37796447  1.         -0.67419986 -0.25819889 -0.37796447  2.081666\n",
      "  -0.67419986 -0.48038446 -0.48038446  0.         -0.57735027  0.\n",
      "  -0.25819889  0.         -0.67419986 -0.25819889  1.4832397   0.77459667\n",
      "   0.         -0.77459667]]\n",
      "\n",
      "Features Test Set:\n",
      "[[-0.37796447 -1.          1.4832397  -0.25819889 -0.37796447  2.081666\n",
      "  -0.67419986 -0.48038446 -0.48038446  0.          1.73205081  0.\n",
      "  -0.25819889  0.         -0.67419986 -0.25819889 -0.67419986  0.77459667\n",
      "   0.         -0.77459667]\n",
      " [-0.37796447  1.         -0.67419986 -0.25819889  2.64575131 -0.48038446\n",
      "  -0.67419986 -0.48038446 -0.48038446  0.         -0.57735027  0.\n",
      "   3.87298335  0.         -0.67419986 -0.25819889 -0.67419986  0.77459667\n",
      "   0.         -0.77459667]\n",
      " [ 2.64575131 -1.         -0.67419986 -0.25819889 -0.37796447 -0.48038446\n",
      "  -0.67419986  2.081666   -0.48038446  0.         -0.57735027  0.\n",
      "  -0.25819889  0.         -0.67419986 -0.25819889  1.4832397   0.77459667\n",
      "   0.         -0.77459667]\n",
      " [-0.37796447  1.         -0.67419986 -0.25819889  2.64575131 -0.48038446\n",
      "  -0.67419986 -0.48038446 -0.48038446  0.         -0.57735027  0.\n",
      "   3.87298335  0.         -0.67419986 -0.25819889 -0.67419986  0.77459667\n",
      "   0.         -0.77459667]\n",
      " [-0.37796447 -1.          1.4832397  -0.25819889 -0.37796447  2.081666\n",
      "  -0.67419986 -0.48038446 -0.48038446  0.         -0.57735027  0.\n",
      "  -0.25819889  1.         -0.67419986 -0.25819889 -0.67419986 -1.29099445\n",
      "   0.          1.29099445]\n",
      " [-0.37796447 -1.          1.4832397  -0.25819889 -0.37796447  2.081666\n",
      "  -0.67419986 -0.48038446 -0.48038446  0.         -0.57735027  0.\n",
      "   3.87298335  0.         -0.67419986 -0.25819889 -0.67419986 -1.29099445\n",
      "   1.         -0.77459667]\n",
      " [ 2.64575131 -1.         -0.67419986 -0.25819889 -0.37796447 -0.48038446\n",
      "  -0.67419986 -0.48038446 -0.48038446  1.         -0.57735027  0.\n",
      "  -0.25819889  0.          1.4832397  -0.25819889 -0.67419986  0.77459667\n",
      "   0.         -0.77459667]\n",
      " [ 2.64575131 -1.         -0.67419986 -0.25819889 -0.37796447 -0.48038446\n",
      "  -0.67419986 -0.48038446 -0.48038446  1.         -0.57735027  0.\n",
      "  -0.25819889  0.          1.4832397  -0.25819889 -0.67419986 -1.29099445\n",
      "   0.          1.29099445]\n",
      " [-0.37796447  1.         -0.67419986 -0.25819889  2.64575131 -0.48038446\n",
      "  -0.67419986 -0.48038446 -0.48038446  0.          1.73205081  0.\n",
      "  -0.25819889  0.         -0.67419986 -0.25819889 -0.67419986  0.77459667\n",
      "   0.         -0.77459667]\n",
      " [-0.37796447  1.         -0.67419986 -0.25819889 -0.37796447 -0.48038446\n",
      "   1.4832397  -0.48038446 -0.48038446  0.         -0.57735027  0.\n",
      "  -0.25819889  0.         -0.67419986 -0.25819889  1.4832397  -1.29099445\n",
      "   0.          1.29099445]\n",
      " [-0.37796447 -1.         -0.67419986  3.87298335 -0.37796447 -0.48038446\n",
      "  -0.67419986 -0.48038446 -0.48038446  1.         -0.57735027  0.\n",
      "  -0.25819889  0.         -0.67419986  3.87298335 -0.67419986 -1.29099445\n",
      "   0.          1.29099445]\n",
      " [-0.37796447  1.         -0.67419986 -0.25819889 -0.37796447 -0.48038446\n",
      "  -0.67419986 -0.48038446 -0.48038446  1.         -0.57735027  0.\n",
      "  -0.25819889  0.          1.4832397  -0.25819889 -0.67419986 -1.29099445\n",
      "   1.         -0.77459667]\n",
      " [ 2.64575131 -1.         -0.67419986 -0.25819889 -0.37796447  2.081666\n",
      "  -0.67419986 -0.48038446 -0.48038446  0.         -0.57735027  0.\n",
      "  -0.25819889  0.          1.4832397  -0.25819889 -0.67419986 -1.29099445\n",
      "   1.         -0.77459667]\n",
      " [-0.37796447  1.         -0.67419986 -0.25819889 -0.37796447 -0.48038446\n",
      "  -0.67419986 -0.48038446 -0.48038446  1.          1.73205081  0.\n",
      "  -0.25819889  0.         -0.67419986 -0.25819889 -0.67419986 -1.29099445\n",
      "   0.          1.29099445]\n",
      " [ 2.64575131 -1.         -0.67419986 -0.25819889  2.64575131 -0.48038446\n",
      "  -0.67419986 -0.48038446 -0.48038446  0.         -0.57735027  0.\n",
      "   3.87298335  0.         -0.67419986 -0.25819889 -0.67419986 -1.29099445\n",
      "   1.         -0.77459667]\n",
      " [-0.37796447  1.         -0.67419986 -0.25819889 -0.37796447 -0.48038446\n",
      "  -0.67419986 -0.48038446  2.081666    0.         -0.57735027  0.\n",
      "  -0.25819889  0.         -0.67419986  3.87298335 -0.67419986 -1.29099445\n",
      "   0.          1.29099445]\n",
      " [-0.37796447 -1.          1.4832397  -0.25819889 -0.37796447 -0.48038446\n",
      "  -0.67419986 -0.48038446  2.081666    0.         -0.57735027  1.\n",
      "  -0.25819889  0.         -0.67419986 -0.25819889 -0.67419986 -1.29099445\n",
      "   0.          1.29099445]\n",
      " [-0.37796447  1.         -0.67419986 -0.25819889 -0.37796447 -0.48038446\n",
      "   1.4832397  -0.48038446 -0.48038446  0.         -0.57735027  0.\n",
      "  -0.25819889  0.         -0.67419986 -0.25819889  1.4832397   0.77459667\n",
      "   0.         -0.77459667]\n",
      " [-0.37796447  1.         -0.67419986 -0.25819889 -0.37796447 -0.48038446\n",
      "  -0.67419986  2.081666   -0.48038446  0.         -0.57735027  0.\n",
      "  -0.25819889  0.         -0.67419986 -0.25819889  1.4832397   0.77459667\n",
      "   0.         -0.77459667]\n",
      " [ 2.64575131 -1.         -0.67419986 -0.25819889 -0.37796447 -0.48038446\n",
      "   1.4832397  -0.48038446 -0.48038446  0.         -0.57735027  0.\n",
      "  -0.25819889  0.         -0.67419986 -0.25819889  1.4832397  -1.29099445\n",
      "   0.          1.29099445]\n",
      " [-0.37796447  1.         -0.67419986 -0.25819889  2.64575131 -0.48038446\n",
      "  -0.67419986 -0.48038446 -0.48038446  0.         -0.57735027  0.\n",
      "  -0.25819889  0.          1.4832397  -0.25819889 -0.67419986  0.77459667\n",
      "   0.         -0.77459667]\n",
      " [-0.37796447  1.         -0.67419986 -0.25819889 -0.37796447  2.081666\n",
      "  -0.67419986 -0.48038446 -0.48038446  0.         -0.57735027  0.\n",
      "  -0.25819889  0.          1.4832397  -0.25819889 -0.67419986  0.77459667\n",
      "   0.         -0.77459667]\n",
      " [-0.37796447  1.         -0.67419986 -0.25819889 -0.37796447 -0.48038446\n",
      "  -0.67419986  2.081666   -0.48038446  0.         -0.57735027  0.\n",
      "  -0.25819889  0.         -0.67419986 -0.25819889  1.4832397   0.77459667\n",
      "   0.         -0.77459667]\n",
      " [-0.37796447 -1.         -0.67419986  3.87298335 -0.37796447  2.081666\n",
      "  -0.67419986 -0.48038446 -0.48038446  0.         -0.57735027  0.\n",
      "  -0.25819889  0.         -0.67419986 -0.25819889  1.4832397   0.77459667\n",
      "   0.         -0.77459667]\n",
      " [-0.37796447  1.         -0.67419986 -0.25819889 -0.37796447  2.081666\n",
      "  -0.67419986 -0.48038446 -0.48038446  0.         -0.57735027  0.\n",
      "  -0.25819889  0.         -0.67419986 -0.25819889  1.4832397  -1.29099445\n",
      "   1.         -0.77459667]\n",
      " [ 2.64575131 -1.         -0.67419986 -0.25819889 -0.37796447  2.081666\n",
      "  -0.67419986 -0.48038446 -0.48038446  0.         -0.57735027  0.\n",
      "  -0.25819889  0.          1.4832397  -0.25819889 -0.67419986  0.77459667\n",
      "   0.         -0.77459667]\n",
      " [-0.37796447 -1.          1.4832397  -0.25819889 -0.37796447 -0.48038446\n",
      "   1.4832397  -0.48038446 -0.48038446  0.         -0.57735027  1.\n",
      "  -0.25819889  0.         -0.67419986 -0.25819889 -0.67419986 -1.29099445\n",
      "   0.          1.29099445]\n",
      " [-0.37796447 -1.         -0.67419986  3.87298335 -0.37796447 -0.48038446\n",
      "  -0.67419986 -0.48038446  2.081666    0.         -0.57735027  0.\n",
      "  -0.25819889  0.          1.4832397  -0.25819889 -0.67419986  0.77459667\n",
      "   0.         -0.77459667]\n",
      " [-0.37796447  1.         -0.67419986 -0.25819889 -0.37796447 -0.48038446\n",
      "  -0.67419986  2.081666   -0.48038446  0.         -0.57735027  0.\n",
      "  -0.25819889  1.         -0.67419986 -0.25819889 -0.67419986 -1.29099445\n",
      "   0.          1.29099445]\n",
      " [-0.37796447  1.         -0.67419986 -0.25819889 -0.37796447  2.081666\n",
      "  -0.67419986 -0.48038446 -0.48038446  0.         -0.57735027  0.\n",
      "  -0.25819889  0.         -0.67419986  3.87298335 -0.67419986  0.77459667\n",
      "   0.         -0.77459667]\n",
      " [-0.37796447  1.         -0.67419986 -0.25819889  2.64575131 -0.48038446\n",
      "  -0.67419986 -0.48038446 -0.48038446  0.         -0.57735027  0.\n",
      "  -0.25819889  0.         -0.67419986 -0.25819889  1.4832397  -1.29099445\n",
      "   1.         -0.77459667]\n",
      " [-0.37796447 -1.         -0.67419986  3.87298335  2.64575131 -0.48038446\n",
      "  -0.67419986 -0.48038446 -0.48038446  0.         -0.57735027  1.\n",
      "  -0.25819889  0.         -0.67419986 -0.25819889 -0.67419986  0.77459667\n",
      "   0.         -0.77459667]\n",
      " [-0.37796447  1.         -0.67419986 -0.25819889 -0.37796447 -0.48038446\n",
      "  -0.67419986 -0.48038446 -0.48038446  1.         -0.57735027  0.\n",
      "  -0.25819889  0.         -0.67419986 -0.25819889  1.4832397   0.77459667\n",
      "   0.         -0.77459667]\n",
      " [-0.37796447  1.         -0.67419986 -0.25819889 -0.37796447 -0.48038446\n",
      "  -0.67419986 -0.48038446 -0.48038446  1.         -0.57735027  0.\n",
      "  -0.25819889  1.         -0.67419986 -0.25819889 -0.67419986 -1.29099445\n",
      "   0.          1.29099445]\n",
      " [-0.37796447 -1.         -0.67419986  3.87298335 -0.37796447  2.081666\n",
      "  -0.67419986 -0.48038446 -0.48038446  0.         -0.57735027  0.\n",
      "  -0.25819889  0.          1.4832397  -0.25819889 -0.67419986  0.77459667\n",
      "   0.         -0.77459667]\n",
      " [-0.37796447 -1.         -0.67419986  3.87298335  2.64575131 -0.48038446\n",
      "  -0.67419986 -0.48038446 -0.48038446  0.         -0.57735027  0.\n",
      "  -0.25819889  0.          1.4832397  -0.25819889 -0.67419986  0.77459667\n",
      "   0.         -0.77459667]\n",
      " [ 2.64575131 -1.         -0.67419986 -0.25819889 -0.37796447 -0.48038446\n",
      "  -0.67419986 -0.48038446  2.081666    0.         -0.57735027  1.\n",
      "  -0.25819889  0.         -0.67419986 -0.25819889 -0.67419986  0.77459667\n",
      "   0.         -0.77459667]\n",
      " [ 2.64575131 -1.         -0.67419986 -0.25819889 -0.37796447 -0.48038446\n",
      "  -0.67419986 -0.48038446  2.081666    0.         -0.57735027  0.\n",
      "  -0.25819889  0.         -0.67419986  3.87298335 -0.67419986  0.77459667\n",
      "   0.         -0.77459667]\n",
      " [ 2.64575131 -1.         -0.67419986 -0.25819889 -0.37796447 -0.48038446\n",
      "   1.4832397  -0.48038446 -0.48038446  0.         -0.57735027  0.\n",
      "  -0.25819889  0.          1.4832397  -0.25819889 -0.67419986 -1.29099445\n",
      "   0.          1.29099445]\n",
      " [-0.37796447  1.         -0.67419986 -0.25819889  2.64575131 -0.48038446\n",
      "  -0.67419986 -0.48038446 -0.48038446  0.         -0.57735027  0.\n",
      "  -0.25819889  0.         -0.67419986  3.87298335 -0.67419986  0.77459667\n",
      "   0.         -0.77459667]\n",
      " [-0.37796447  1.         -0.67419986 -0.25819889 -0.37796447 -0.48038446\n",
      "  -0.67419986  2.081666   -0.48038446  0.         -0.57735027  0.\n",
      "  -0.25819889  0.         -0.67419986 -0.25819889  1.4832397   0.77459667\n",
      "   0.         -0.77459667]\n",
      " [-0.37796447  1.         -0.67419986 -0.25819889 -0.37796447 -0.48038446\n",
      "  -0.67419986 -0.48038446 -0.48038446  1.         -0.57735027  0.\n",
      "   3.87298335  0.         -0.67419986 -0.25819889 -0.67419986  0.77459667\n",
      "   0.         -0.77459667]\n",
      " [-0.37796447 -1.          1.4832397  -0.25819889 -0.37796447 -0.48038446\n",
      "   1.4832397  -0.48038446 -0.48038446  0.         -0.57735027  0.\n",
      "  -0.25819889  0.          1.4832397  -0.25819889 -0.67419986  0.77459667\n",
      "   0.         -0.77459667]\n",
      " [-0.37796447 -1.          1.4832397  -0.25819889 -0.37796447  2.081666\n",
      "  -0.67419986 -0.48038446 -0.48038446  0.          1.73205081  0.\n",
      "  -0.25819889  0.         -0.67419986 -0.25819889 -0.67419986  0.77459667\n",
      "   0.         -0.77459667]\n",
      " [ 2.64575131 -1.         -0.67419986 -0.25819889 -0.37796447 -0.48038446\n",
      "  -0.67419986 -0.48038446 -0.48038446  1.         -0.57735027  0.\n",
      "  -0.25819889  0.         -0.67419986 -0.25819889  1.4832397   0.77459667\n",
      "   0.         -0.77459667]\n",
      " [-0.37796447  1.         -0.67419986 -0.25819889  2.64575131 -0.48038446\n",
      "  -0.67419986 -0.48038446 -0.48038446  0.         -0.57735027  0.\n",
      "   3.87298335  0.         -0.67419986 -0.25819889 -0.67419986 -1.29099445\n",
      "   0.          1.29099445]\n",
      " [-0.37796447  1.         -0.67419986 -0.25819889 -0.37796447 -0.48038446\n",
      "  -0.67419986  2.081666   -0.48038446  0.         -0.57735027  0.\n",
      "   3.87298335  0.         -0.67419986 -0.25819889 -0.67419986 -1.29099445\n",
      "   1.         -0.77459667]\n",
      " [-0.37796447 -1.          1.4832397  -0.25819889 -0.37796447 -0.48038446\n",
      "  -0.67419986 -0.48038446  2.081666    0.         -0.57735027  0.\n",
      "  -0.25819889  1.         -0.67419986 -0.25819889 -0.67419986 -1.29099445\n",
      "   0.          1.29099445]\n",
      " [-0.37796447  1.         -0.67419986 -0.25819889 -0.37796447 -0.48038446\n",
      "  -0.67419986 -0.48038446 -0.48038446  1.         -0.57735027  0.\n",
      "  -0.25819889  0.         -0.67419986 -0.25819889  1.4832397  -1.29099445\n",
      "   0.          1.29099445]\n",
      " [-0.37796447 -1.          1.4832397  -0.25819889  2.64575131 -0.48038446\n",
      "  -0.67419986 -0.48038446 -0.48038446  0.         -0.57735027  0.\n",
      "  -0.25819889  0.         -0.67419986 -0.25819889  1.4832397  -1.29099445\n",
      "   0.          1.29099445]]\n",
      "\n"
     ]
    }
   ],
   "source": [
    "# Import module for Feature Scaling\n",
    "from sklearn.preprocessing import StandardScaler\n",
    "\n",
    "sc_X = StandardScaler()\n",
    "X_train = sc_X.fit_transform(X_train)\n",
    "X_test = sc_X.transform(X_test)\n",
    "\n",
    "print('Features Training Set:\\n{}\\n'.format(X_train))\n",
    "print('Features Test Set:\\n{}\\n'.format(X_test))"
   ]
  },
  {
   "cell_type": "markdown",
   "metadata": {},
   "source": [
    "<b>!!!<u>ENSEMBLE LEARNING</u>!!!</b>"
   ]
  },
  {
   "cell_type": "code",
   "execution_count": 13,
   "metadata": {
    "collapsed": true
   },
   "outputs": [],
   "source": [
    "# Import additional modules for build classifiers\n",
    "from sklearn.ensemble import RandomForestClassifier\n",
    "from sklearn.ensemble import VotingClassifier\n",
    "from sklearn.linear_model import LogisticRegression\n",
    "from sklearn.svm import SVC"
   ]
  },
  {
   "cell_type": "code",
   "execution_count": 14,
   "metadata": {
    "collapsed": true
   },
   "outputs": [],
   "source": [
    "# Define our classifiers\n",
    "log_clf = LogisticRegression()\n",
    "rnd_clf = RandomForestClassifier()\n",
    "svm_clf = SVC(probability = True)"
   ]
  },
  {
   "cell_type": "code",
   "execution_count": 22,
   "metadata": {
    "collapsed": false
   },
   "outputs": [
    {
     "data": {
      "text/plain": [
       "VotingClassifier(estimators=[('lr', LogisticRegression(C=1.0, class_weight=None, dual=False, fit_intercept=True,\n",
       "          intercept_scaling=1, max_iter=100, multi_class='ovr', n_jobs=1,\n",
       "          penalty='l2', random_state=None, solver='liblinear', tol=0.0001,\n",
       "          verbose=0, warm_start=False)), ('rf', RandomF...',\n",
       "  max_iter=-1, probability=True, random_state=None, shrinking=True,\n",
       "  tol=0.001, verbose=False))],\n",
       "         flatten_transform=None, n_jobs=1, voting='soft', weights=None)"
      ]
     },
     "execution_count": 22,
     "metadata": {},
     "output_type": "execute_result"
    }
   ],
   "source": [
    "# Let's run Ensemble Learning!\n",
    "voting_clf = VotingClassifier(estimators =\n",
    "                              [('lr', log_clf), ('rf', rnd_clf), ('svc', svm_clf)],\n",
    "                              \n",
    "                              voting = 'soft')\n",
    "\n",
    "\"\"\"\n",
    "If all classifiers are ableto estimate class probabilites (they have a predict_proba() method) then we can predict class with\n",
    "the highest probability, averaged over individual classifiers. This is called soft voting. It often achieves higher performance\n",
    "than hard voting because it gives more weight to highly confident votes.\n",
    "\"\"\"\n",
    "\n",
    "# !!! Important !!!\n",
    "voting_clf.fit(X_train, y_train)"
   ]
  },
  {
   "cell_type": "code",
   "execution_count": 16,
   "metadata": {
    "collapsed": true
   },
   "outputs": [],
   "source": [
    "# Define number of Iteration N for testing\n",
    "N = 100\n",
    "\n",
    "results = [] # List - here will be storing all results for all classifiers\n",
    "classifier_result = {} # dictiorary - here will be storing a record of result for a singe classifier"
   ]
  },
  {
   "cell_type": "code",
   "execution_count": 17,
   "metadata": {
    "collapsed": false
   },
   "outputs": [],
   "source": [
    "# let's look at each classifier's accuracy on the test set\n",
    "from sklearn.metrics import accuracy_score\n",
    "\n",
    "for iteration in range(0, N, 1):\n",
    "    \n",
    "    classifier_result = {} # reset space for a new classifier\n",
    "    \n",
    "    for clf in (log_clf, rnd_clf, svm_clf, voting_clf):\n",
    "        clf.fit(X_train, y_train)\n",
    "        y_pred = clf.predict(X_test)\n",
    "        #print(clf.__class__.__name__, round(accuracy_score(y_test, y_pred), 3))\n",
    "        \n",
    "        classifier_result['Iteration'] = iteration\n",
    "        classifier_result[clf.__class__.__name__] = round(accuracy_score(y_test, y_pred), 3)\n",
    "        \n",
    "    results.append(dict(classifier_result))"
   ]
  },
  {
   "cell_type": "markdown",
   "metadata": {},
   "source": [
    "<b><u>RESULTS AND VISUALIZATION</u></b>"
   ]
  },
  {
   "cell_type": "code",
   "execution_count": 18,
   "metadata": {
    "collapsed": false
   },
   "outputs": [
    {
     "data": {
      "text/html": [
       "<div>\n",
       "<table border=\"1\" class=\"dataframe\">\n",
       "  <thead>\n",
       "    <tr style=\"text-align: right;\">\n",
       "      <th></th>\n",
       "      <th>LogisticRegression</th>\n",
       "      <th>RandomForestClassifier</th>\n",
       "      <th>SVC</th>\n",
       "      <th>VotingClassifier</th>\n",
       "    </tr>\n",
       "    <tr>\n",
       "      <th>Iteration</th>\n",
       "      <th></th>\n",
       "      <th></th>\n",
       "      <th></th>\n",
       "      <th></th>\n",
       "    </tr>\n",
       "  </thead>\n",
       "  <tbody>\n",
       "    <tr>\n",
       "      <th>0</th>\n",
       "      <td>0.52</td>\n",
       "      <td>0.48</td>\n",
       "      <td>0.56</td>\n",
       "      <td>0.50</td>\n",
       "    </tr>\n",
       "    <tr>\n",
       "      <th>1</th>\n",
       "      <td>0.52</td>\n",
       "      <td>0.62</td>\n",
       "      <td>0.56</td>\n",
       "      <td>0.48</td>\n",
       "    </tr>\n",
       "    <tr>\n",
       "      <th>2</th>\n",
       "      <td>0.52</td>\n",
       "      <td>0.56</td>\n",
       "      <td>0.56</td>\n",
       "      <td>0.50</td>\n",
       "    </tr>\n",
       "    <tr>\n",
       "      <th>3</th>\n",
       "      <td>0.52</td>\n",
       "      <td>0.66</td>\n",
       "      <td>0.56</td>\n",
       "      <td>0.54</td>\n",
       "    </tr>\n",
       "    <tr>\n",
       "      <th>4</th>\n",
       "      <td>0.52</td>\n",
       "      <td>0.56</td>\n",
       "      <td>0.56</td>\n",
       "      <td>0.52</td>\n",
       "    </tr>\n",
       "    <tr>\n",
       "      <th>5</th>\n",
       "      <td>0.52</td>\n",
       "      <td>0.58</td>\n",
       "      <td>0.56</td>\n",
       "      <td>0.52</td>\n",
       "    </tr>\n",
       "    <tr>\n",
       "      <th>6</th>\n",
       "      <td>0.52</td>\n",
       "      <td>0.62</td>\n",
       "      <td>0.56</td>\n",
       "      <td>0.54</td>\n",
       "    </tr>\n",
       "    <tr>\n",
       "      <th>7</th>\n",
       "      <td>0.52</td>\n",
       "      <td>0.54</td>\n",
       "      <td>0.56</td>\n",
       "      <td>0.46</td>\n",
       "    </tr>\n",
       "    <tr>\n",
       "      <th>8</th>\n",
       "      <td>0.52</td>\n",
       "      <td>0.46</td>\n",
       "      <td>0.56</td>\n",
       "      <td>0.56</td>\n",
       "    </tr>\n",
       "    <tr>\n",
       "      <th>9</th>\n",
       "      <td>0.52</td>\n",
       "      <td>0.54</td>\n",
       "      <td>0.56</td>\n",
       "      <td>0.52</td>\n",
       "    </tr>\n",
       "  </tbody>\n",
       "</table>\n",
       "</div>"
      ],
      "text/plain": [
       "           LogisticRegression  RandomForestClassifier   SVC  VotingClassifier\n",
       "Iteration                                                                    \n",
       "0                        0.52                    0.48  0.56              0.50\n",
       "1                        0.52                    0.62  0.56              0.48\n",
       "2                        0.52                    0.56  0.56              0.50\n",
       "3                        0.52                    0.66  0.56              0.54\n",
       "4                        0.52                    0.56  0.56              0.52\n",
       "5                        0.52                    0.58  0.56              0.52\n",
       "6                        0.52                    0.62  0.56              0.54\n",
       "7                        0.52                    0.54  0.56              0.46\n",
       "8                        0.52                    0.46  0.56              0.56\n",
       "9                        0.52                    0.54  0.56              0.52"
      ]
     },
     "execution_count": 18,
     "metadata": {},
     "output_type": "execute_result"
    }
   ],
   "source": [
    "# Build Result DataFrame\n",
    "results_df = pd.DataFrame(results).set_index('Iteration')\n",
    "results_df.head(10)"
   ]
  },
  {
   "cell_type": "code",
   "execution_count": 19,
   "metadata": {
    "collapsed": false
   },
   "outputs": [
    {
     "data": {
      "text/html": [
       "<div>\n",
       "<table border=\"1\" class=\"dataframe\">\n",
       "  <thead>\n",
       "    <tr style=\"text-align: right;\">\n",
       "      <th></th>\n",
       "      <th>LogisticRegression</th>\n",
       "      <th>RandomForestClassifier</th>\n",
       "      <th>SVC</th>\n",
       "      <th>VotingClassifier</th>\n",
       "    </tr>\n",
       "  </thead>\n",
       "  <tbody>\n",
       "    <tr>\n",
       "      <th>count</th>\n",
       "      <td>100.00</td>\n",
       "      <td>100.000000</td>\n",
       "      <td>1.000000e+02</td>\n",
       "      <td>100.000000</td>\n",
       "    </tr>\n",
       "    <tr>\n",
       "      <th>mean</th>\n",
       "      <td>0.52</td>\n",
       "      <td>0.549000</td>\n",
       "      <td>5.600000e-01</td>\n",
       "      <td>0.513200</td>\n",
       "    </tr>\n",
       "    <tr>\n",
       "      <th>std</th>\n",
       "      <td>0.00</td>\n",
       "      <td>0.049021</td>\n",
       "      <td>2.231632e-16</td>\n",
       "      <td>0.034957</td>\n",
       "    </tr>\n",
       "    <tr>\n",
       "      <th>min</th>\n",
       "      <td>0.52</td>\n",
       "      <td>0.440000</td>\n",
       "      <td>5.600000e-01</td>\n",
       "      <td>0.420000</td>\n",
       "    </tr>\n",
       "    <tr>\n",
       "      <th>25%</th>\n",
       "      <td>0.52</td>\n",
       "      <td>0.520000</td>\n",
       "      <td>5.600000e-01</td>\n",
       "      <td>0.500000</td>\n",
       "    </tr>\n",
       "    <tr>\n",
       "      <th>50%</th>\n",
       "      <td>0.52</td>\n",
       "      <td>0.560000</td>\n",
       "      <td>5.600000e-01</td>\n",
       "      <td>0.520000</td>\n",
       "    </tr>\n",
       "    <tr>\n",
       "      <th>75%</th>\n",
       "      <td>0.52</td>\n",
       "      <td>0.580000</td>\n",
       "      <td>5.600000e-01</td>\n",
       "      <td>0.540000</td>\n",
       "    </tr>\n",
       "    <tr>\n",
       "      <th>max</th>\n",
       "      <td>0.52</td>\n",
       "      <td>0.700000</td>\n",
       "      <td>5.600000e-01</td>\n",
       "      <td>0.600000</td>\n",
       "    </tr>\n",
       "  </tbody>\n",
       "</table>\n",
       "</div>"
      ],
      "text/plain": [
       "       LogisticRegression  RandomForestClassifier           SVC  \\\n",
       "count              100.00              100.000000  1.000000e+02   \n",
       "mean                 0.52                0.549000  5.600000e-01   \n",
       "std                  0.00                0.049021  2.231632e-16   \n",
       "min                  0.52                0.440000  5.600000e-01   \n",
       "25%                  0.52                0.520000  5.600000e-01   \n",
       "50%                  0.52                0.560000  5.600000e-01   \n",
       "75%                  0.52                0.580000  5.600000e-01   \n",
       "max                  0.52                0.700000  5.600000e-01   \n",
       "\n",
       "       VotingClassifier  \n",
       "count        100.000000  \n",
       "mean           0.513200  \n",
       "std            0.034957  \n",
       "min            0.420000  \n",
       "25%            0.500000  \n",
       "50%            0.520000  \n",
       "75%            0.540000  \n",
       "max            0.600000  "
      ]
     },
     "execution_count": 19,
     "metadata": {},
     "output_type": "execute_result"
    }
   ],
   "source": [
    "results_df.describe()"
   ]
  },
  {
   "cell_type": "code",
   "execution_count": 20,
   "metadata": {
    "collapsed": false
   },
   "outputs": [
    {
     "data": {
      "image/png": "[encoded data removed]",
      "text/plain": [
       "<matplotlib.figure.Figure at 0x11d724f0>"
      ]
     },
     "metadata": {},
     "output_type": "display_data"
    }
   ],
   "source": [
    "# Plot Results\n",
    "from pylab import rcParams\n",
    "rcParams['figure.figsize'] = 14, 6\n",
    "\n",
    "_ = plt.plot(results_df.index, results_df['LogisticRegression'],\n",
    "             label = 'Logistic Regression', color = 'black',\n",
    "             linewidth = 1,\n",
    "             alpha = 0.5)\n",
    "\n",
    "_ = plt.plot(results_df.index, results_df['RandomForestClassifier'],\n",
    "             label = 'Random Forest', color = 'green',\n",
    "             linewidth = 1,\n",
    "             alpha = 0.5)\n",
    "\n",
    "_ = plt.plot(results_df.index, results_df['SVC'],\n",
    "             label = 'SVC', color = 'magenta',\n",
    "             linewidth = 1,\n",
    "             alpha = 0.5)\n",
    "\n",
    "_ = plt.plot(results_df.index, results_df['VotingClassifier'],\n",
    "             label = 'Voting Classifier', color = 'red',\n",
    "             linewidth = 3)\n",
    "\n",
    "_ = plt.grid(which = 'major', alpha = 0.2)\n",
    "\n",
    "_ = plt.title('Results of Ensemble Learning, i = 100, Training set = {}, Test set {}'.format(1 - set_size,\n",
    "                                                                                             set_size),\n",
    "              family = 'Arial',\n",
    "              fontsize = 17)\n",
    "_ = plt.xlabel('Iterations, i', family = 'Arial', fontsize = 15)\n",
    "_ = plt.ylabel('Accuracy of classifiers', family = 'Arial', fontsize = 15)\n",
    "\n",
    "_ = plt.xticks(fontsize = 14)\n",
    "_ = plt.yticks(fontsize = 14)\n",
    "\n",
    "_ = plt.legend(loc = 'best', markerscale = 2, fontsize = 14)\n",
    "\n",
    "_ = plt.show()"
   ]
  },
  {
   "cell_type": "markdown",
   "metadata": {},
   "source": [
    "<h2>Conclusions</h2>\n",
    "<ul>>> Dummy variable scaling do not impact final results significanly.</ul>\n",
    "<ul>>> Ensemble Learning Classifier can not win again other classifier with poor dataset</ul>\n",
    "<ul>>> Feature Engineering must be apply before building ML model for better results.</ul>"
   ]
  },
  {
   "cell_type": "markdown",
   "metadata": {},
   "source": [
    "<i>Prepared by Vytautas Bielinskas, 2018</i>"
   ]
  },
  {
   "cell_type": "code",
   "execution_count": null,
   "metadata": {
    "collapsed": true
   },
   "outputs": [],
   "source": []
  }
 ],
 "metadata": {
  "kernelspec": {
   "display_name": "Python 3",
   "language": "python",
   "name": "python3"
  },
  "language_info": {
   "codemirror_mode": {
    "name": "ipython",
    "version": 3
   },
   "file_extension": ".py",
   "mimetype": "text/x-python",
   "name": "python",
   "nbconvert_exporter": "python",
   "pygments_lexer": "ipython3",
   "version": "3.5.2"
  }
 },
 "nbformat": 4,
 "nbformat_minor": 2
}
